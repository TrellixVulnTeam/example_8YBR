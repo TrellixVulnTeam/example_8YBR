{
 "cells": [
  {
   "cell_type": "code",
   "execution_count": 2,
   "metadata": {},
   "outputs": [],
   "source": [
    "import numpy as np"
   ]
  },
  {
   "cell_type": "code",
   "execution_count": 12,
   "metadata": {},
   "outputs": [
    {
     "name": "stdout",
     "output_type": "stream",
     "text": [
      "[[0.58]\n",
      " [0.42]]\n",
      "[[0.1 0.6]]\n",
      "[[0.058 0.348]\n",
      " [0.042 0.252]]\n"
     ]
    }
   ],
   "source": [
    "start_probability = np.matrix(\\\n",
    "    [\\\n",
    "        [0.6],\\\n",
    "        [0.4]\n",
    "    ]\\\n",
    ")\n",
    "transition_probability = np.matrix(\\\n",
    "    [\\\n",
    "        [0.7, 0.4],\\\n",
    "        [0.3, 0.6]\n",
    "    ]\\\n",
    ")\n",
    "emission_probability = np.matrix(\\\n",
    "    [\\\n",
    "        [0.1, 0.6],\\\n",
    "        [0.4, 0.3],\\\n",
    "        [0.5, 0.1]\n",
    "    ]\\\n",
    ")\n",
    "observation_index = [0, 1, 2]\n",
    "print(transition_probability*start_probability)\n",
    "print(emission_probability[0])\n",
    "print(transition_probability*start_probability*emission_probability[0])\n",
    "#print(np.argmax(emission_probability*transition_probability*start_probability))\n"
   ]
  },
  {
   "cell_type": "code",
   "execution_count": 4,
   "metadata": {},
   "outputs": [
    {
     "name": "stdout",
     "output_type": "stream",
     "text": [
      "    \n",
      "      0\n",
      "      1\n",
      "      2\n",
      "\n",
      "Rainy: \n",
      "0.06000\n",
      "0.03840\n",
      "0.01344\n",
      "\n",
      "Sunny: \n",
      "0.24000\n",
      "0.04320\n",
      "0.00259\n",
      "\n",
      "(0.01344, ['Sunny', 'Rainy', 'Rainy'])\n"
     ]
    }
   ],
   "source": [
    "states = ('Rainy', 'Sunny')\n",
    " \n",
    "observations = ('walk', 'shop', 'clean')\n",
    " \n",
    "start_probability = {'Rainy': 0.6, 'Sunny': 0.4}\n",
    " \n",
    "transition_probability = {\n",
    "    'Rainy' : {'Rainy': 0.7, 'Sunny': 0.3},\n",
    "    'Sunny' : {'Rainy': 0.4, 'Sunny': 0.6},\n",
    "    }\n",
    " \n",
    "emission_probability = {\n",
    "    'Rainy' : {'walk': 0.1, 'shop': 0.4, 'clean': 0.5},\n",
    "    'Sunny' : {'walk': 0.6, 'shop': 0.3, 'clean': 0.1},\n",
    "}\n",
    " \n",
    "# 打印路径概率表\n",
    "def print_dptable(V):\n",
    "    print(\"    \"),\n",
    "    for i in range(len(V)): print(\"%7d\" % i),\n",
    "    print()\n",
    " \n",
    "    for y in V[0].keys():\n",
    "        print(\"%.5s: \" % y),\n",
    "        for t in range(len(V)):\n",
    "            print(\"%.7s\" % (\"%f\" % V[t][y])),\n",
    "        print()\n",
    " \n",
    " \n",
    "def viterbi(obs, states, start_p, trans_p, emit_p):\n",
    "    \"\"\"\n",
    " \n",
    "    :param obs:观测序列\n",
    "    :param states:隐状态\n",
    "    :param start_p:初始概率（隐状态）\n",
    "    :param trans_p:转移概率（隐状态）\n",
    "    :param emit_p: 发射概率 （隐状态表现为显状态的概率）\n",
    "    :return:\n",
    "    \"\"\"\n",
    "    # 路径概率表 V[时间][隐状态] = 概率\n",
    "    V = [{}]\n",
    "    # 一个中间变量，代表当前状态是哪个隐状态\n",
    "    path = {}\n",
    " \n",
    "    # 初始化初始状态 (t == 0)\n",
    "    for y in states:\n",
    "        V[0][y] = start_p[y] * emit_p[y][obs[0]]\n",
    "        path[y] = [y]\n",
    " \n",
    "    # 对 t > 0 跑一遍维特比算法\n",
    "    for t in range(1, len(obs)):\n",
    "        V.append({})\n",
    "        newpath = {}\n",
    " \n",
    "        for y in states:\n",
    "            # 概率 隐状态 =    前状态是y0的概率 * y0转移到y的概率 * y表现为当前状态的概率\n",
    "            (prob, state) = max([(V[t - 1][y0] * trans_p[y0][y] * emit_p[y][obs[t]], y0) for y0 in states])\n",
    "            # 记录最大概率\n",
    "            V[t][y] = prob\n",
    "            # 记录路径\n",
    "            newpath[y] = path[state] + [y]\n",
    " \n",
    "        # 不需要保留旧路径\n",
    "        path = newpath\n",
    " \n",
    "    print_dptable(V)\n",
    "    (prob, state) = max([(V[len(obs) - 1][y], y) for y in states])\n",
    "    return (prob, path[state])\n",
    " \n",
    " \n",
    "def example():\n",
    "    return viterbi(observations,\n",
    "                   states,\n",
    "                   start_probability,\n",
    "                   transition_probability,\n",
    "                   emission_probability)\n",
    " \n",
    " \n",
    "print(example())"
   ]
  }
 ],
 "metadata": {
  "kernelspec": {
   "display_name": "Python 3",
   "language": "python",
   "name": "python3"
  },
  "language_info": {
   "codemirror_mode": {
    "name": "ipython",
    "version": 3
   },
   "file_extension": ".py",
   "mimetype": "text/x-python",
   "name": "python",
   "nbconvert_exporter": "python",
   "pygments_lexer": "ipython3",
   "version": "3.6.5"
  }
 },
 "nbformat": 4,
 "nbformat_minor": 2
}
