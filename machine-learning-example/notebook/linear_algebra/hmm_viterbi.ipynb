{
 "cells": [
  {
   "cell_type": "code",
   "execution_count": 1,
   "metadata": {},
   "outputs": [],
   "source": [
    "import numpy as np"
   ]
  },
  {
   "cell_type": "markdown",
   "metadata": {},
   "source": [
    "# parameter"
   ]
  },
  {
   "cell_type": "code",
   "execution_count": 2,
   "metadata": {},
   "outputs": [],
   "source": [
    "# reference : http://www.hankcs.com/nlp/hmm-and-segmentation-tagging-named-entity-recognition.html\n",
    "# reference : http://www.hankcs.com/nlp/general-java-implementation-of-the-viterbi-algorithm.html\n",
    "obs = ('walk', 'shop', 'clean')\n",
    "states = ('Rainy', 'Sunny')\n",
    "start_p = {'Rainy': 0.6, 'Sunny': 0.4}\n",
    "trans_p = {\n",
    "    'Rainy' : {'Rainy': 0.7, 'Sunny': 0.3},\n",
    "    'Sunny' : {'Rainy': 0.4, 'Sunny': 0.6},\n",
    "}\n",
    "emit_p = {\n",
    "    'Rainy' : {'walk': 0.1, 'shop': 0.4, 'clean': 0.5},\n",
    "    'Sunny' : {'walk': 0.6, 'shop': 0.3, 'clean': 0.1},\n",
    "}"
   ]
  },
  {
   "cell_type": "markdown",
   "metadata": {},
   "source": [
    "# viterbi"
   ]
  },
  {
   "cell_type": "code",
   "execution_count": 3,
   "metadata": {},
   "outputs": [],
   "source": [
    "def viterbi(obs, states, start_p, trans_p, emit_p):\n",
    "    \"\"\"\n",
    "    :param obs:观测序列\n",
    "    :param states:隐状态\n",
    "    :param start_p:初始概率（隐状态）\n",
    "    :param trans_p:转移概率（隐状态）\n",
    "    :param emit_p: 发射概率 （隐状态表现为显状态的概率）\n",
    "    :return:\n",
    "    \"\"\"\n",
    "    record = {state : {\"path\":[]} for state in states}\n",
    "    beforeRecord = {}\n",
    "    for i in range(0, len(obs)):\n",
    "        ob = obs[i]\n",
    "        for currentState in states:\n",
    "            if i == 0:\n",
    "                record[currentState][\"path\"].append(currentState)\n",
    "                record[currentState][\"prob\"] = start_p[currentState] * emit_p[currentState][ob]\n",
    "            else:\n",
    "                (prob, path) = max([(beforeRecord[beforeState][\"prob\"] * trans_p[beforeState][currentState] * emit_p[currentState][ob], beforeRecord[beforeState][\"path\"] + [currentState]) for beforeState in states])\n",
    "                record[currentState][\"path\"] = path\n",
    "                record[currentState][\"prob\"] = prob\n",
    "        beforeRecord = record\n",
    "    return max([(record[state][\"prob\"], record[state][\"path\"]) for state in states])"
   ]
  },
  {
   "cell_type": "markdown",
   "metadata": {},
   "source": [
    "# run"
   ]
  },
  {
   "cell_type": "code",
   "execution_count": 4,
   "metadata": {},
   "outputs": [
    {
     "data": {
      "text/plain": [
       "(0.01344, ['Sunny', 'Rainy', 'Rainy'])"
      ]
     },
     "execution_count": 4,
     "metadata": {},
     "output_type": "execute_result"
    }
   ],
   "source": [
    "viterbi(obs, states, start_p, trans_p, emit_p)"
   ]
  }
 ],
 "metadata": {
  "kernelspec": {
   "display_name": "Python 3",
   "language": "python",
   "name": "python3"
  },
  "language_info": {
   "codemirror_mode": {
    "name": "ipython",
    "version": 3
   },
   "file_extension": ".py",
   "mimetype": "text/x-python",
   "name": "python",
   "nbconvert_exporter": "python",
   "pygments_lexer": "ipython3",
   "version": "3.6.5"
  }
 },
 "nbformat": 4,
 "nbformat_minor": 2
}
