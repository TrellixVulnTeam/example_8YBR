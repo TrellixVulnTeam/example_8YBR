{
 "cells": [
  {
   "cell_type": "code",
   "execution_count": 1,
   "metadata": {},
   "outputs": [],
   "source": [
    "import numpy as np"
   ]
  },
  {
   "cell_type": "code",
   "execution_count": 2,
   "metadata": {},
   "outputs": [
    {
     "name": "stdout",
     "output_type": "stream",
     "text": [
      "[[100.]\n",
      " [100.]]\n"
     ]
    }
   ],
   "source": [
    "state_vector = np.matrix(\\\n",
    "    [\\\n",
    "        [120],\\\n",
    "        [80]\n",
    "    ]\\\n",
    ")\n",
    "transition_matrix = np.matrix(\\\n",
    "    [\\\n",
    "        [0.7, 0.2],\\\n",
    "        [0.3, 0.8]\n",
    "    ]\\\n",
    ")\n",
    "print(transition_matrix*state_vector)"
   ]
  }
 ],
 "metadata": {
  "kernelspec": {
   "display_name": "Python 3",
   "language": "python",
   "name": "python3"
  },
  "language_info": {
   "codemirror_mode": {
    "name": "ipython",
    "version": 3
   },
   "file_extension": ".py",
   "mimetype": "text/x-python",
   "name": "python",
   "nbconvert_exporter": "python",
   "pygments_lexer": "ipython3",
   "version": "3.6.5"
  }
 },
 "nbformat": 4,
 "nbformat_minor": 2
}
