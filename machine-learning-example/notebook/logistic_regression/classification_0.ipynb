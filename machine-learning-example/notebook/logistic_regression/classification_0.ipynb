{
 "cells": [
  {
   "cell_type": "markdown",
   "metadata": {},
   "source": [
    "# Reference\n",
    " [Ch. 2 - Neural Network from scratch (Pt. 1)'](http://nbviewer.jupyter.org/github/JannesKlaas/MLiFC/blob/master/Week%201/Ch.%202%20-%20Neural%20Network%20from%20scratch%20%28Pt.%201%29.ipynb).\n"
   ]
  },
  {
   "cell_type": "code",
   "execution_count": 1,
   "metadata": {},
   "outputs": [],
   "source": [
    "import numpy as np\n",
    "import matplotlib.pyplot as plt\n",
    "np.random.seed(1)\n",
    "%matplotlib inline"
   ]
  },
  {
   "cell_type": "markdown",
   "metadata": {},
   "source": [
    "# Data\n",
    "We got an input matrix $X$ and an output vector $y$ and we want to train our algorithm on making predictions for $y$.\n",
    "\n",
    "|$X_1$|$X_2$|$X_3$|$y$|\n",
    "|-|-|-|---|\n",
    "|0|1|0|0|\n",
    "|1|0|0|1|\n",
    "|1|1|1|1|\n",
    "|0|1|1|0|"
   ]
  },
  {
   "cell_type": "code",
   "execution_count": 2,
   "metadata": {},
   "outputs": [],
   "source": [
    "X = np.array([[0,1,0],\n",
    "              [1,0,0],\n",
    "              [1,1,1],\n",
    "              [0,1,1]])\n",
    "\n",
    "y = np.array([[0,1,1,0]]).T"
   ]
  },
  {
   "cell_type": "markdown",
   "metadata": {},
   "source": [
    "# Logistic Regression\n",
    "In neural networks, the input layer is denoted as $A_0$, the first layer as $A_1$ and so on. Since the input layer activations are just the input, we find that:\n",
    "\n",
    "$$A_0 = X$$\n",
    "\n",
    "In the graphical content of this course I will denote specific features of a layer with squared brakets, like in  python array indexing. $X_1$ therfore becomes ```A0[0] ```\n",
    "\n",
    "As you can see in the image above, our neural net will consist of only one input layer and one output layer. The first the input features are multiplied with the weights $w$ and the weighted features then get summed up, together with the bias b. This is exactly what happens in linear regression.\n",
    "\n",
    "In linear regression, the bias $b$ is usually denoted as $\\beta_0$ while the weights are named $\\beta_1, \\beta_2, \\beta_3...$ For convenience we are just calling $\\beta_0$ $b$ and group all other weights into the weight vector $w$. $w$ and $b$ are called the parameters of the neural network. \n",
    "\n",
    "The outcome of our linear regression gets then passed into a non linear activation function, in our case the sigmoid function. This is the same as what happens in logistic regression. \n",
    "\n",
    "$$ z_1 = A_0.W_1 + b$$"
   ]
  },
  {
   "cell_type": "code",
   "execution_count": 3,
   "metadata": {},
   "outputs": [],
   "source": [
    "A0 = X"
   ]
  },
  {
   "cell_type": "markdown",
   "metadata": {},
   "source": [
    "# Sigmoid Activation Function\n",
    "\n",
    "If we had a linear activation function, the output would simply be a weighted sum of our input features. \n",
    "\n",
    "Through non-linear activation functions we can model much more complex functions. In fact, it has been shown that neural nets can model _any_ function, as long as we make them big enough. \n",
    "\n",
    "Sigmoid function has the formula:\n",
    "\n",
    "$$\\sigma(x) = \\frac{1}{1 + e^{-x}}$$\n"
   ]
  },
  {
   "cell_type": "code",
   "execution_count": 4,
   "metadata": {},
   "outputs": [
    {
     "data": {
      "image/png": "[encoded data removed]",
      "text/plain": [
       "<matplotlib.figure.Figure at 0x7fbebc7d5668>"
      ]
     },
     "metadata": {},
     "output_type": "display_data"
    }
   ],
   "source": [
    "def sigmoid(x):\n",
    "    return 1 / (1 + np.exp(-x))\n",
    "\n",
    "x = np.arange(-6., 6., 0.1)\n",
    "sig = sigmoid(x)\n",
    "plt.title(\"sigmoid function\")\n",
    "plt.text(2, 0.8, r'$\\sigma(x)=\\frac{1}{1+e^{-x}}$', fontsize=15)\n",
    "plt.plot(x, sig)\n",
    "plt.show()"
   ]
  },
  {
   "cell_type": "markdown",
   "metadata": {},
   "source": [
    "# Initializing Weights\n",
    "\n",
    "Before we can work with the weights, we have to initialize them.\n",
    "\n",
    "This creates a 3 by 1 weight matrix, mapping our three input features to our one output. It is important to initialize the weights randomly and not just set them all to zero for the sake of symmetry breaking. \n",
    "\n",
    "If all the weights where the same, then they would never be different from each other, and our neural net could not model any complex functions."
   ]
  },
  {
   "cell_type": "code",
   "execution_count": 5,
   "metadata": {},
   "outputs": [],
   "source": [
    "# initializes weights with random number between -1 and 1\n",
    "W_1 = 2 * np.random.random((3, 1)) - 1\n",
    "# set bias to 0\n",
    "b_1 = 0"
   ]
  },
  {
   "cell_type": "markdown",
   "metadata": {},
   "source": [
    "# Forward Propagation\n",
    "\n",
    "With all the elements in place, we can now obtain predictions from our network with a forward pass.\n",
    "\n",
    "1. We do a linear step:\n",
    "$$ z_1 = A_0.W_1 + b$$\n",
    "2. We pass the linear product through the activation function\n",
    "$$A_1 = \\sigma(z_1)$$\n",
    "\n",
    "We got an input matrix $X$ and an output vector $y$ and we want to train our algorithm on making predictions for $y$.\n",
    "\n",
    "|$X_1$|$X_2$|$X_3$|$y$|$\\hat{y}$|\n",
    "|-|-|-|-|-|\n",
    "|0|1|0|0|0.60841366|\n",
    "|1|0|0|1|0.45860596|\n",
    "|1|1|1|1|0.3262757 |\n",
    "|0|1|1|0|0.36375058|"
   ]
  },
  {
   "cell_type": "code",
   "execution_count": 6,
   "metadata": {},
   "outputs": [
    {
     "name": "stdout",
     "output_type": "stream",
     "text": [
      "[[0.60841366]\n",
      " [0.45860596]\n",
      " [0.3262757 ]\n",
      " [0.36375058]]\n"
     ]
    }
   ],
   "source": [
    "z1 = np.dot(A0, W_1) + b_1\n",
    "A1 = sigmoid(z1)\n",
    "print(A1)"
   ]
  },
  {
   "cell_type": "markdown",
   "metadata": {},
   "source": [
    "## Measuring Losses\n",
    " \n",
    "That does not look like $y$ at all! That is just random numbers! We now have to modify the weights so that we arrive at better predictions.\n",
    "\n",
    "In order to arrive at better predictions, we first have to quantify how badly we did. In classification the metric used is the cross-entropy loss, sometimes also called logistic loss or log loss. It is calculated as follows:\n",
    " \n",
    " $$L(w) = -\\frac{1}{m} \\sum_{i=1}^m [y_i * \\log \\hat y_i  +  (1-y_i)*\\log(1-\\hat y_i)]$$\n",
    " \n",
    " Let's go through this step by step.\n",
    " \n",
    " 1. $L(w)$ is the loss function given the weights $w$ that where used to obtain the prediction $\\hat y_i$\n",
    " 2. $-\\frac{1}{m} \\sum_{i=0}^m$ The loss over a batch of m examples is the average loss of all examples. We have factored a - out of the sum and moved it in front of the equation.\n",
    " 3. $y_i * \\log \\hat y_i$ This part of the loss only comes into play if the true value, $y_i$ is 1. If $y_i$ is 1, we want $\\hat y_i$ to be as close to 1 as possible, to achieve a low loss.\n",
    " 4. $(1-y_i)*\\log(1-\\hat y_i)$ This part of the loss comes into play if $y_i$ is 0. If so, we want $\\hat y_i$ to be close to 0 as well.\n",
    " \n",
    " Consider the following example: We have only one sample so, \n",
    " $m = 1$, the true value $y_i = 1$ and the the prediction $\\hat y_i = 0.01$. $\\hat y_i$ can be interpreted as the probability that $y_i = 1$ given $X_i$, or $P(y_i = 1 | X_i)$ in math terms. It will never be zero since the probability of $y_i = 1$ will never be zero, only very small. Here, our algorithm has given $y_i = 1$ only a 1% chance. In the case above our loss can be calculated as: \n",
    " \n",
    " $$L(w) = -\\frac{1}{1} \\sum_{i=0}^1 [1 * \\log (0.01)  +  (1-1)*\\log(1-0)]$$\n",
    "  $$L(w) = -[-4.6051  +  0]$$\n",
    "  $$L(w) = 4.6051$$\n",
    "  \n",
    "  This is quite a high loss, let's see what would have happened if $\\hat y_i = 0.99$, meaning the algorithm would have given $y_i = 1$ a 99% chance.\n",
    "  \n",
    "  $$L(w) = -\\frac{1}{1} \\sum_{i=0}^1 [1 * \\log (0.99)  +  (1-1)*\\log(1-0.99)]$$\n",
    "   $$L(w) = -[-0.01  +  0]$$\n",
    "   $$L(w) = 0.01$$"
   ]
  },
  {
   "cell_type": "code",
   "execution_count": 7,
   "metadata": {},
   "outputs": [],
   "source": [
    "def logistic_loss(y, y_hat):\n",
    "    m = y.shape[0]\n",
    "    loss = -1/m * np.sum(y * np.log(y_hat) + (1-y) * np.log(1-y_hat))\n",
    "    return loss"
   ]
  },
  {
   "cell_type": "markdown",
   "metadata": {},
   "source": [
    "# Backward Propagation\n",
    "Before we can start updating our weights, we have to calculate the derivative. We want the derivative of the total loss $L(w)$ with respect to the weight vector $w$."
   ]
  },
  {
   "cell_type": "code",
   "execution_count": 8,
   "metadata": {},
   "outputs": [],
   "source": [
    "def logistic_loss_derivative(y, y_hat):\n",
    "    return (y_hat - y)"
   ]
  },
  {
   "cell_type": "code",
   "execution_count": 9,
   "metadata": {},
   "outputs": [
    {
     "data": {
      "image/png": "[encoded data removed]",
      "text/plain": [
       "<matplotlib.figure.Figure at 0x7fbebc3ed160>"
      ]
     },
     "metadata": {},
     "output_type": "display_data"
    }
   ],
   "source": [
    "m = y.shape[0]\n",
    "epochs = 100\n",
    "learning_rate = 1\n",
    "losses = []\n",
    "for i in range(epochs):\n",
    "    z1 = np.dot(X, W_1) + b_1\n",
    "    A1 = sigmoid(z1)\n",
    "    loss = logistic_loss(y=y,y_hat=A1)\n",
    "    losses.append(loss)\n",
    "    loss_derivative = logistic_loss_derivative(y=y, y_hat=A1)\n",
    "    dW1 = 1/m * np.dot(X.T, loss_derivative)\n",
    "    db1 = 1/m * np.sum(loss_derivative, axis=0, keepdims=True)\n",
    "    W_1 -= learning_rate * dW1\n",
    "    b_1 -= learning_rate * db1\n",
    "\n",
    "plt.title(\"loss over epochs\")\n",
    "plt.plot(losses)\n",
    "plt.show()"
   ]
  }
 ],
 "metadata": {
  "kernelspec": {
   "display_name": "Python 3",
   "language": "python",
   "name": "python3"
  },
  "language_info": {
   "codemirror_mode": {
    "name": "ipython",
    "version": 3
   },
   "file_extension": ".py",
   "mimetype": "text/x-python",
   "name": "python",
   "nbconvert_exporter": "python",
   "pygments_lexer": "ipython3",
   "version": "3.6.4"
  }
 },
 "nbformat": 4,
 "nbformat_minor": 2
}
