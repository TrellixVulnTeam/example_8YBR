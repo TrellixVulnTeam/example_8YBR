{
 "cells": [
  {
   "cell_type": "code",
   "execution_count": 1,
   "metadata": {},
   "outputs": [],
   "source": [
    "import matplotlib.pyplot as plt\n",
    "\n",
    "%matplotlib inline"
   ]
  },
  {
   "cell_type": "code",
   "execution_count": 2,
   "metadata": {},
   "outputs": [
    {
     "data": {
      "text/plain": [
       "(-1, 5)"
      ]
     },
     "execution_count": 2,
     "metadata": {},
     "output_type": "execute_result"
    },
    {
     "data": {
      "image/png": "[encoded data removed]",
      "text/plain": [
       "<Figure size 432x288 with 1 Axes>"
      ]
     },
     "metadata": {},
     "output_type": "display_data"
    }
   ],
   "source": [
    "fig, ax = plt.subplots()\n",
    "ax.annotate(\n",
    "    s=\"$A$\", \n",
    "    xy=(0 - 0.2, 3 + 0.1)\n",
    ")\n",
    "ax.annotate(\n",
    "    s=\"$B$\", \n",
    "    xy=(4 + 0.1, 0 - 0.2)\n",
    ")\n",
    "ax.annotate(\n",
    "    s=\"$C$\", \n",
    "    xy=(2, 0 + 0.3)\n",
    ")\n",
    "a, = ax.plot([2, 4], [0, 0])\n",
    "ax.annotate(\n",
    "    s=\"$a$\", \n",
    "    xy=(3, 0 - 0.3)\n",
    ")\n",
    "b, = ax.plot([2, 0], [0, 3])\n",
    "ax.annotate(\n",
    "    s=\"$b$\", \n",
    "    xy=(1, 1)\n",
    ")\n",
    "c, = ax.plot([0, 4], [3, 0])\n",
    "ax.annotate(\n",
    "    s=\"$c$\", \n",
    "    xy=(2, 2 - 0.3)\n",
    ")\n",
    "OC, = ax.plot([0, 2], [0, 0], linestyle='dashed')\n",
    "ax.annotate(\n",
    "    s=\"$-b$ $\\cos$ $C$\",\n",
    "    xy=(1 - 0.4, 0 - 0.3)\n",
    ")\n",
    "OA, = ax.plot([0, 0], [0, 3], linestyle='dashed')\n",
    "ax.annotate(\n",
    "    s=\"$b$ $\\sin$ $C$\", \n",
    "    xy=(0 - 0.7, 1.5 - 0.2)\n",
    ")\n",
    "plt.xlim([-1, 5])\n",
    "plt.ylim([-1, 5])"
   ]
  },
  {
   "cell_type": "markdown",
   "metadata": {},
   "source": [
    "Let $A$, $B$, and $C$ be the vertices of a triangle and let $a$, $b$, and $c$ denote the corresponding opposite sides. Then the $\\textbf{law of cosines}$ states that\n",
    "$$c^{2} = a^{2} + b^{2} - 2ab \\cos C $$"
   ]
  },
  {
   "cell_type": "markdown",
   "metadata": {},
   "source": [
    "# proof"
   ]
  },
  {
   "cell_type": "markdown",
   "metadata": {},
   "source": [
    "$(a - b \\cos C)^{2} + (b \\sin C)^{2}$<br>\n",
    "$=a^{2} - 2ab \\cos C + b^{2} \\cos^{2} C + b^{2} sin^{2} C$<br>\n",
    "$=a^{2} + b^{2} - 2ab \\cos C$"
   ]
  }
 ],
 "metadata": {
  "kernelspec": {
   "display_name": "Python 3",
   "language": "python",
   "name": "python3"
  },
  "language_info": {
   "codemirror_mode": {
    "name": "ipython",
    "version": 3
   },
   "file_extension": ".py",
   "mimetype": "text/x-python",
   "name": "python",
   "nbconvert_exporter": "python",
   "pygments_lexer": "ipython3",
   "version": "3.6.5"
  }
 },
 "nbformat": 4,
 "nbformat_minor": 2
}
