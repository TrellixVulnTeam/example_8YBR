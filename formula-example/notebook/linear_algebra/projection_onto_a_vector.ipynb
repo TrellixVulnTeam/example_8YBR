{
 "cells": [
  {
   "cell_type": "code",
   "execution_count": 1,
   "metadata": {},
   "outputs": [],
   "source": [
    "import matplotlib.pyplot as plt\n",
    "\n",
    "%matplotlib inline"
   ]
  },
  {
   "cell_type": "code",
   "execution_count": 42,
   "metadata": {},
   "outputs": [
    {
     "data": {
      "text/plain": [
       "(-1, 5)"
      ]
     },
     "execution_count": 42,
     "metadata": {},
     "output_type": "execute_result"
    },
    {
     "data": {
      "image/png": "[encoded data removed]",
      "text/plain": [
       "<Figure size 432x288 with 1 Axes>"
      ]
     },
     "metadata": {},
     "output_type": "display_data"
    }
   ],
   "source": [
    "fig, ax = plt.subplots()\n",
    "u = ax.arrow(x=0, y=0, dx=4, dy=0, length_includes_head = True, head_width=0.1)\n",
    "ax.annotate(\n",
    "    s=\"$u$\", \n",
    "    xy=(4 - 0.2, 0 - 0.4)\n",
    ")\n",
    "v = ax.arrow(x=0, y=0, dx=3, dy=4, length_includes_head = True, head_width=0.1)\n",
    "ax.annotate(\n",
    "    s=\"$v$\", \n",
    "    xy=(3, 4 + 0.2)\n",
    ")\n",
    "virtical_line = ax.arrow(x=3, y=0, dx=0, dy=4, length_includes_head = False, linestyle='dashed')\n",
    "ax.arrow?\n",
    "ax.annotate(\n",
    "    s=\"$\\\\theta$\", \n",
    "    xy=(0 + 0.4, 0 + 0.2)\n",
    ")\n",
    "plt.xlim([-1, 5])\n",
    "plt.ylim([-1, 5])"
   ]
  },
  {
   "cell_type": "markdown",
   "metadata": {},
   "source": [
    "If $u$ and $v$ are vectors in $\\mathbb{R}^{n}$ and $u \\neq 0$, then the $\\textbf{projection of v onto u}$ is the vector $proj_{u}(v)$ defined by\n",
    "\n",
    "$$proj_{u}(v) = \\big(\\dfrac{u \\cdot v}{u \\cdot u}\\big) u$$"
   ]
  },
  {
   "cell_type": "markdown",
   "metadata": {},
   "source": [
    "# proof"
   ]
  },
  {
   "cell_type": "code",
   "execution_count": null,
   "metadata": {},
   "outputs": [],
   "source": []
  }
 ],
 "metadata": {
  "kernelspec": {
   "display_name": "Python 3",
   "language": "python",
   "name": "python3"
  },
  "language_info": {
   "codemirror_mode": {
    "name": "ipython",
    "version": 3
   },
   "file_extension": ".py",
   "mimetype": "text/x-python",
   "name": "python",
   "nbconvert_exporter": "python",
   "pygments_lexer": "ipython3",
   "version": "3.6.5"
  }
 },
 "nbformat": 4,
 "nbformat_minor": 2
}
