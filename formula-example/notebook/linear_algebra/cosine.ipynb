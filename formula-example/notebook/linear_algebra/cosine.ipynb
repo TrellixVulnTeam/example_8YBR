{
 "cells": [
  {
   "cell_type": "markdown",
   "metadata": {},
   "source": [
    "For nonzero vectors $u$ and $v$ in $\\mathbb{R}^{n}$,\n",
    "$$\\cos \\theta = \\dfrac{u \\cdot v}{\\parallel u \\parallel \\parallel v \\parallel}$$"
   ]
  },
  {
   "cell_type": "markdown",
   "metadata": {},
   "source": [
    "# proof"
   ]
  },
  {
   "cell_type": "markdown",
   "metadata": {},
   "source": [
    "$\\parallel u - v \\parallel ^{2} = \\parallel u \\parallel ^{2} + \\parallel v \\parallel ^{2} - 2 \\parallel u \\parallel \\parallel v \\parallel \\cos \\theta$ &nbsp;&nbsp;&nbsp;&nbsp;&nbsp;&nbsp;&nbsp;&nbsp;&nbsp;&nbsp;<a href=\"https://github.com/hsiehpinghan/example/blob/master/formula-example/notebook/calculus/law_of_cosines.ipynb\">law of cosines</a> <br>\n",
    "$\\parallel u \\parallel ^{2} - 2(u \\cdot v) + \\parallel v \\parallel ^{2}= \\parallel u \\parallel ^{2} + \\parallel v \\parallel ^{2} - 2 \\parallel u \\parallel \\parallel v \\parallel \\cos \\theta$ <br>\n",
    "$\\cos \\theta = \\dfrac{u \\cdot v}{\\parallel u \\parallel \\parallel v \\parallel}$"
   ]
  }
 ],
 "metadata": {
  "kernelspec": {
   "display_name": "Python 3",
   "language": "python",
   "name": "python3"
  },
  "language_info": {
   "codemirror_mode": {
    "name": "ipython",
    "version": 3
   },
   "file_extension": ".py",
   "mimetype": "text/x-python",
   "name": "python",
   "nbconvert_exporter": "python",
   "pygments_lexer": "ipython3",
   "version": "3.6.5"
  }
 },
 "nbformat": 4,
 "nbformat_minor": 2
}
