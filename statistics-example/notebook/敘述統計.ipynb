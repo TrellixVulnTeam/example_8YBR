{
 "cells": [
  {
   "cell_type": "code",
   "execution_count": 1,
   "metadata": {},
   "outputs": [],
   "source": [
    "import numpy as np\n",
    "import pandas as pd\n",
    "import matplotlib.pyplot as plt\n",
    "from scipy import stats\n",
    "from pylab import mpl\n",
    "\n",
    "mpl.rcParams['font.sans-serif'] = ['WenQuanYi Zen Hei']\n",
    "mpl.rcParams['axes.unicode_minus'] = False"
   ]
  },
  {
   "cell_type": "markdown",
   "metadata": {},
   "source": [
    "# 分配表之編製"
   ]
  },
  {
   "cell_type": "markdown",
   "metadata": {},
   "source": [
    "## 定性分配表之編製"
   ]
  },
  {
   "cell_type": "code",
   "execution_count": 2,
   "metadata": {},
   "outputs": [
    {
     "data": {
      "text/html": [
       "<div>\n",
       "<style scoped>\n",
       "    .dataframe tbody tr th:only-of-type {\n",
       "        vertical-align: middle;\n",
       "    }\n",
       "\n",
       "    .dataframe tbody tr th {\n",
       "        vertical-align: top;\n",
       "    }\n",
       "\n",
       "    .dataframe thead th {\n",
       "        text-align: right;\n",
       "    }\n",
       "</style>\n",
       "<table border=\"1\" class=\"dataframe\">\n",
       "  <thead>\n",
       "    <tr style=\"text-align: right;\">\n",
       "      <th></th>\n",
       "      <th>人數</th>\n",
       "    </tr>\n",
       "    <tr>\n",
       "      <th>黨派</th>\n",
       "      <th></th>\n",
       "    </tr>\n",
       "  </thead>\n",
       "  <tbody>\n",
       "    <tr>\n",
       "      <th>其他</th>\n",
       "      <td>30</td>\n",
       "    </tr>\n",
       "    <tr>\n",
       "      <th>台聯黨</th>\n",
       "      <td>15</td>\n",
       "    </tr>\n",
       "    <tr>\n",
       "      <th>國民黨</th>\n",
       "      <td>80</td>\n",
       "    </tr>\n",
       "    <tr>\n",
       "      <th>建國黨</th>\n",
       "      <td>5</td>\n",
       "    </tr>\n",
       "    <tr>\n",
       "      <th>新黨</th>\n",
       "      <td>10</td>\n",
       "    </tr>\n",
       "    <tr>\n",
       "      <th>民進黨</th>\n",
       "      <td>60</td>\n",
       "    </tr>\n",
       "    <tr>\n",
       "      <th>合計</th>\n",
       "      <td>200</td>\n",
       "    </tr>\n",
       "  </tbody>\n",
       "</table>\n",
       "</div>"
      ],
      "text/plain": [
       "      人數\n",
       "黨派      \n",
       "其他    30\n",
       "台聯黨   15\n",
       "國民黨   80\n",
       "建國黨    5\n",
       "新黨    10\n",
       "民進黨   60\n",
       "合計   200"
      ]
     },
     "execution_count": 2,
     "metadata": {},
     "output_type": "execute_result"
    }
   ],
   "source": [
    "index = [\"國民黨\", \"民進黨\", \"新黨\", \"台聯黨\", \"建國黨\", \"其他\"]\n",
    "data = [80, 60, 10, 15, 5, 30]\n",
    "df = pd.DataFrame(data = data, index = index, columns=[\"人數\"])\n",
    "df.index.name = \"黨派\"\n",
    "df.pivot_table(\n",
    "    index=[\"黨派\"],\n",
    "    values=[\"人數\"], \n",
    "    margins=True,\n",
    "    aggfunc=np.sum,\n",
    "    margins_name=\"合計\"\n",
    ")"
   ]
  },
  {
   "cell_type": "code",
   "execution_count": 3,
   "metadata": {},
   "outputs": [
    {
     "data": {
      "text/html": [
       "<div>\n",
       "<style scoped>\n",
       "    .dataframe tbody tr th:only-of-type {\n",
       "        vertical-align: middle;\n",
       "    }\n",
       "\n",
       "    .dataframe tbody tr th {\n",
       "        vertical-align: top;\n",
       "    }\n",
       "\n",
       "    .dataframe thead th {\n",
       "        text-align: right;\n",
       "    }\n",
       "</style>\n",
       "<table border=\"1\" class=\"dataframe\">\n",
       "  <thead>\n",
       "    <tr style=\"text-align: right;\">\n",
       "      <th></th>\n",
       "      <th>女</th>\n",
       "      <th>男</th>\n",
       "    </tr>\n",
       "    <tr>\n",
       "      <th>黨派</th>\n",
       "      <th></th>\n",
       "      <th></th>\n",
       "    </tr>\n",
       "  </thead>\n",
       "  <tbody>\n",
       "    <tr>\n",
       "      <th>其他</th>\n",
       "      <td>18</td>\n",
       "      <td>12</td>\n",
       "    </tr>\n",
       "    <tr>\n",
       "      <th>台聯黨</th>\n",
       "      <td>5</td>\n",
       "      <td>10</td>\n",
       "    </tr>\n",
       "    <tr>\n",
       "      <th>國民黨</th>\n",
       "      <td>45</td>\n",
       "      <td>35</td>\n",
       "    </tr>\n",
       "    <tr>\n",
       "      <th>建國黨</th>\n",
       "      <td>3</td>\n",
       "      <td>2</td>\n",
       "    </tr>\n",
       "    <tr>\n",
       "      <th>新黨</th>\n",
       "      <td>4</td>\n",
       "      <td>6</td>\n",
       "    </tr>\n",
       "    <tr>\n",
       "      <th>民進黨</th>\n",
       "      <td>15</td>\n",
       "      <td>45</td>\n",
       "    </tr>\n",
       "    <tr>\n",
       "      <th>合計</th>\n",
       "      <td>90</td>\n",
       "      <td>110</td>\n",
       "    </tr>\n",
       "  </tbody>\n",
       "</table>\n",
       "</div>"
      ],
      "text/plain": [
       "      女    男\n",
       "黨派          \n",
       "其他   18   12\n",
       "台聯黨   5   10\n",
       "國民黨  45   35\n",
       "建國黨   3    2\n",
       "新黨    4    6\n",
       "民進黨  15   45\n",
       "合計   90  110"
      ]
     },
     "execution_count": 3,
     "metadata": {},
     "output_type": "execute_result"
    }
   ],
   "source": [
    "index = [\"國民黨\", \"民進黨\", \"新黨\", \"台聯黨\", \"建國黨\", \"其他\"]\n",
    "data = {\n",
    "    \"男\" : [35, 45, 6, 10, 2, 12],\n",
    "    \"女\" : [45, 15, 4, 5, 3, 18]\n",
    "}\n",
    "df = pd.DataFrame(data = data, index = index)\n",
    "df.index.name = \"黨派\"\n",
    "pd.pivot_table(\n",
    "    data=df,\n",
    "    index=[\"黨派\"],\n",
    "    values=[\"男\", \"女\"], \n",
    "    margins=True,\n",
    "    aggfunc={\n",
    "        \"男\" : np.sum,\n",
    "        \"女\" : np.sum\n",
    "    },\n",
    "    margins_name=\"合計\"\n",
    ")"
   ]
  },
  {
   "cell_type": "markdown",
   "metadata": {},
   "source": [
    "## 次數分配表之編製"
   ]
  },
  {
   "cell_type": "code",
   "execution_count": 4,
   "metadata": {},
   "outputs": [
    {
     "data": {
      "text/html": [
       "<div>\n",
       "<style scoped>\n",
       "    .dataframe tbody tr th:only-of-type {\n",
       "        vertical-align: middle;\n",
       "    }\n",
       "\n",
       "    .dataframe tbody tr th {\n",
       "        vertical-align: top;\n",
       "    }\n",
       "\n",
       "    .dataframe thead th {\n",
       "        text-align: right;\n",
       "    }\n",
       "</style>\n",
       "<table border=\"1\" class=\"dataframe\">\n",
       "  <thead>\n",
       "    <tr style=\"text-align: right;\">\n",
       "      <th></th>\n",
       "      <th>組次數</th>\n",
       "      <th>以下累積</th>\n",
       "      <th>以上累積</th>\n",
       "      <th>相對次數</th>\n",
       "    </tr>\n",
       "    <tr>\n",
       "      <th>組界</th>\n",
       "      <th></th>\n",
       "      <th></th>\n",
       "      <th></th>\n",
       "      <th></th>\n",
       "    </tr>\n",
       "  </thead>\n",
       "  <tbody>\n",
       "    <tr>\n",
       "      <th>(30.949, 38.286]</th>\n",
       "      <td>3</td>\n",
       "      <td>3</td>\n",
       "      <td>60</td>\n",
       "      <td>0.050000</td>\n",
       "    </tr>\n",
       "    <tr>\n",
       "      <th>(38.286, 45.571]</th>\n",
       "      <td>3</td>\n",
       "      <td>6</td>\n",
       "      <td>57</td>\n",
       "      <td>0.050000</td>\n",
       "    </tr>\n",
       "    <tr>\n",
       "      <th>(45.571, 52.857]</th>\n",
       "      <td>7</td>\n",
       "      <td>13</td>\n",
       "      <td>54</td>\n",
       "      <td>0.116667</td>\n",
       "    </tr>\n",
       "    <tr>\n",
       "      <th>(52.857, 60.143]</th>\n",
       "      <td>8</td>\n",
       "      <td>21</td>\n",
       "      <td>47</td>\n",
       "      <td>0.133333</td>\n",
       "    </tr>\n",
       "    <tr>\n",
       "      <th>(60.143, 67.429]</th>\n",
       "      <td>12</td>\n",
       "      <td>33</td>\n",
       "      <td>39</td>\n",
       "      <td>0.200000</td>\n",
       "    </tr>\n",
       "    <tr>\n",
       "      <th>(67.429, 74.714]</th>\n",
       "      <td>15</td>\n",
       "      <td>48</td>\n",
       "      <td>27</td>\n",
       "      <td>0.250000</td>\n",
       "    </tr>\n",
       "    <tr>\n",
       "      <th>(74.714, 82.0]</th>\n",
       "      <td>12</td>\n",
       "      <td>60</td>\n",
       "      <td>12</td>\n",
       "      <td>0.200000</td>\n",
       "    </tr>\n",
       "  </tbody>\n",
       "</table>\n",
       "</div>"
      ],
      "text/plain": [
       "                  組次數  以下累積  以上累積      相對次數\n",
       "組界                                         \n",
       "(30.949, 38.286]    3     3    60  0.050000\n",
       "(38.286, 45.571]    3     6    57  0.050000\n",
       "(45.571, 52.857]    7    13    54  0.116667\n",
       "(52.857, 60.143]    8    21    47  0.133333\n",
       "(60.143, 67.429]   12    33    39  0.200000\n",
       "(67.429, 74.714]   15    48    27  0.250000\n",
       "(74.714, 82.0]     12    60    12  0.200000"
      ]
     },
     "execution_count": 4,
     "metadata": {},
     "output_type": "execute_result"
    }
   ],
   "source": [
    "df = pd.DataFrame({\"data\" : [75, 82, 60, 63, 35, 80, 61, 78, 71, 62, 72, 68, 51, 65, 53, 46, 70, 55, 31, 76, 59, 52, 64, 74, 79, 46, 69, 61, 74, 78, 49, 38, 71, 63, 49, 68, 66, 76, 73, 72, 80, 74, 58, 43, 60, 71, 41, 45, 53, 50, 66, 70, 59, 65, 76, 73, 64, 67, 82, 80]})\n",
    "bins = pd.cut(x = df[\"data\"], bins = 7)\n",
    "df = df.groupby(bins).count()\n",
    "df.index.name = \"組界\"\n",
    "df.columns = [\"組次數\"]\n",
    "df[\"以下累積\"] = df[\"組次數\"].cumsum()\n",
    "df[\"以上累積\"] = df.loc[::-1, \"組次數\"].cumsum()\n",
    "df[\"相對次數\"] = df[\"組次數\"] / np.sum(df[\"組次數\"])\n",
    "df"
   ]
  },
  {
   "cell_type": "markdown",
   "metadata": {},
   "source": [
    "# 統計圖表之編製"
   ]
  },
  {
   "cell_type": "markdown",
   "metadata": {},
   "source": [
    "## 屬質資料之統計圖"
   ]
  },
  {
   "cell_type": "code",
   "execution_count": 5,
   "metadata": {},
   "outputs": [
    {
     "data": {
      "text/plain": [
       "<matplotlib.axes._subplots.AxesSubplot at 0x7f148a3fbac8>"
      ]
     },
     "execution_count": 5,
     "metadata": {},
     "output_type": "execute_result"
    },
    {
     "data": {
      "image/png": "[encoded data removed]",
      "text/plain": [
       "<Figure size 432x288 with 1 Axes>"
      ]
     },
     "metadata": {},
     "output_type": "display_data"
    }
   ],
   "source": [
    "index = [\"國民黨\", \"民進黨\", \"新黨\", \"台聯黨\", \"建國黨\", \"其他\"]\n",
    "data = [80, 60, 10, 15, 5, 30]\n",
    "df = pd.DataFrame(data = data, index = index, columns=[\"人數\"])\n",
    "df.index.name = \"黨派\"\n",
    "df.plot.bar()"
   ]
  }
 ],
 "metadata": {
  "kernelspec": {
   "display_name": "Python 3",
   "language": "python",
   "name": "python3"
  },
  "language_info": {
   "codemirror_mode": {
    "name": "ipython",
    "version": 3
   },
   "file_extension": ".py",
   "mimetype": "text/x-python",
   "name": "python",
   "nbconvert_exporter": "python",
   "pygments_lexer": "ipython3",
   "version": "3.6.5"
  }
 },
 "nbformat": 4,
 "nbformat_minor": 2
}
